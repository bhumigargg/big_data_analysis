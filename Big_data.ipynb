{
  "nbformat": 4,
  "nbformat_minor": 0,
  "metadata": {
    "colab": {
      "provenance": []
    },
    "kernelspec": {
      "name": "python3",
      "display_name": "Python 3"
    },
    "language_info": {
      "name": "python"
    }
  },
  "cells": [
    {
      "cell_type": "code",
      "execution_count": 2,
      "metadata": {
        "colab": {
          "base_uri": "https://localhost:8080/"
        },
        "id": "HClE2Jt72P69",
        "outputId": "7f19ef07-ee4b-49d3-8428-c9789ea4992f"
      },
      "outputs": [
        {
          "output_type": "stream",
          "name": "stdout",
          "text": [
            "Get:1 https://cloud.r-project.org/bin/linux/ubuntu jammy-cran40/ InRelease [3,632 B]\n",
            "Get:2 https://developer.download.nvidia.com/compute/cuda/repos/ubuntu2204/x86_64  InRelease [1,581 B]\n",
            "Hit:3 http://archive.ubuntu.com/ubuntu jammy InRelease\n",
            "Get:4 http://security.ubuntu.com/ubuntu jammy-security InRelease [129 kB]\n",
            "Get:5 https://r2u.stat.illinois.edu/ubuntu jammy InRelease [6,555 B]\n",
            "Get:6 http://archive.ubuntu.com/ubuntu jammy-updates InRelease [128 kB]\n",
            "Hit:7 https://ppa.launchpadcontent.net/deadsnakes/ppa/ubuntu jammy InRelease\n",
            "Get:8 https://developer.download.nvidia.com/compute/cuda/repos/ubuntu2204/x86_64  Packages [1,853 kB]\n",
            "Hit:9 https://ppa.launchpadcontent.net/graphics-drivers/ppa/ubuntu jammy InRelease\n",
            "Get:10 http://archive.ubuntu.com/ubuntu jammy-backports InRelease [127 kB]\n",
            "Hit:11 https://ppa.launchpadcontent.net/ubuntugis/ppa/ubuntu jammy InRelease\n",
            "Get:12 https://r2u.stat.illinois.edu/ubuntu jammy/main all Packages [9,152 kB]\n",
            "Get:13 http://security.ubuntu.com/ubuntu jammy-security/main amd64 Packages [3,160 kB]\n",
            "Get:14 https://r2u.stat.illinois.edu/ubuntu jammy/main amd64 Packages [2,771 kB]\n",
            "Get:15 http://security.ubuntu.com/ubuntu jammy-security/universe amd64 Packages [1,269 kB]\n",
            "Get:16 http://archive.ubuntu.com/ubuntu jammy-updates/universe amd64 Packages [1,574 kB]\n",
            "Get:17 http://archive.ubuntu.com/ubuntu jammy-updates/main amd64 Packages [3,471 kB]\n",
            "Fetched 23.6 MB in 4s (5,934 kB/s)\n",
            "Reading package lists... Done\n",
            "W: Skipping acquire of configured file 'main/source/Sources' as repository 'https://r2u.stat.illinois.edu/ubuntu jammy InRelease' does not seem to provide it (sources.list entry misspelt?)\n",
            "--2025-07-28 15:10:41--  https://archive.apache.org/dist/spark/spark-3.5.1/spark-3.5.1-bin-hadoop3.tgz\n",
            "Resolving archive.apache.org (archive.apache.org)... 65.108.204.189, 2a01:4f9:1a:a084::2\n",
            "Connecting to archive.apache.org (archive.apache.org)|65.108.204.189|:443... connected.\n",
            "HTTP request sent, awaiting response... 200 OK\n",
            "Length: 400446614 (382M) [application/x-gzip]\n",
            "Saving to: ‘spark-3.5.1-bin-hadoop3.tgz’\n",
            "\n",
            "spark-3.5.1-bin-had 100%[===================>] 381.90M   342KB/s    in 22m 33s \n",
            "\n",
            "2025-07-28 15:33:15 (289 KB/s) - ‘spark-3.5.1-bin-hadoop3.tgz’ saved [400446614/400446614]\n",
            "\n",
            "ml-25m\tml-25m.zip  sample_data  spark-3.5.1-bin-hadoop3.tgz\n"
          ]
        }
      ],
      "source": [
        "!apt-get update\n",
        "!apt-get install openjdk-11-jdk-headless -qq > /dev/null\n",
        "# Corrected download URL and filename\n",
        "!wget -v https://archive.apache.org/dist/spark/spark-3.5.1/spark-3.5.1-bin-hadoop3.tgz\n",
        "!ls # Add ls to verify download\n",
        "!tar xf spark-3.5.1-bin-hadoop3.tgz\n",
        "!pip install -q findspark\n",
        "\n",
        "import os\n",
        "# Corrected SPARK_HOME path\n",
        "os.environ[\"JAVA_HOME\"] = \"/usr/lib/jvm/java-11-openjdk-amd64\"\n",
        "os.environ[\"SPARK_HOME\"] = \"/content/spark-3.5.1-bin-hadoop3\"\n",
        "\n",
        "import findspark\n",
        "findspark.init()"
      ]
    },
    {
      "cell_type": "code",
      "source": [
        "from pyspark.sql import SparkSession\n",
        "spark = SparkSession.builder.appName(\"BigDataProject\").getOrCreate()\n"
      ],
      "metadata": {
        "id": "UY80awo2NEc3"
      },
      "execution_count": 3,
      "outputs": []
    },
    {
      "cell_type": "code",
      "source": [
        "!wget https://files.grouplens.org/datasets/movielens/ml-25m.zip\n",
        "!unzip ml-25m.zip\n",
        "\n",
        "df = spark.read.csv(\"ml-25m/ratings.csv\", header=True, inferSchema=True)\n",
        "df.printSchema()\n",
        "df.show(5)\n"
      ],
      "metadata": {
        "colab": {
          "base_uri": "https://localhost:8080/"
        },
        "id": "_gp14dAdNOcP",
        "outputId": "8972119a-089a-43d9-c578-655aebe64bca"
      },
      "execution_count": 9,
      "outputs": [
        {
          "output_type": "stream",
          "name": "stdout",
          "text": [
            "--2025-07-28 15:41:45--  https://files.grouplens.org/datasets/movielens/ml-25m.zip\n",
            "Resolving files.grouplens.org (files.grouplens.org)... 128.101.65.152\n",
            "Connecting to files.grouplens.org (files.grouplens.org)|128.101.65.152|:443... connected.\n",
            "HTTP request sent, awaiting response... 200 OK\n",
            "Length: 261978986 (250M) [application/zip]\n",
            "Saving to: ‘ml-25m.zip.2’\n",
            "\n",
            "ml-25m.zip.2        100%[===================>] 249.84M  79.2MB/s    in 3.4s    \n",
            "\n",
            "2025-07-28 15:41:49 (73.2 MB/s) - ‘ml-25m.zip.2’ saved [261978986/261978986]\n",
            "\n",
            "Archive:  ml-25m.zip\n",
            "replace ml-25m/tags.csv? [y]es, [n]o, [A]ll, [N]one, [r]ename: y\n",
            "  inflating: ml-25m/tags.csv         \n",
            "replace ml-25m/links.csv? [y]es, [n]o, [A]ll, [N]one, [r]ename: y\n",
            "  inflating: ml-25m/links.csv        \n",
            "replace ml-25m/README.txt? [y]es, [n]o, [A]ll, [N]one, [r]ename: y\n",
            "  inflating: ml-25m/README.txt       \n",
            "replace ml-25m/ratings.csv? [y]es, [n]o, [A]ll, [N]one, [r]ename: y\n",
            "  inflating: ml-25m/ratings.csv      y\n",
            "y\n",
            "y\n",
            "\n",
            "replace ml-25m/genome-tags.csv? [y]es, [n]o, [A]ll, [N]one, [r]ename:   inflating: ml-25m/genome-tags.csv  \n",
            "replace ml-25m/genome-scores.csv? [y]es, [n]o, [A]ll, [N]one, [r]ename:   inflating: ml-25m/genome-scores.csv  \n",
            "replace ml-25m/movies.csv? [y]es, [n]o, [A]ll, [N]one, [r]ename:   inflating: ml-25m/movies.csv       \n",
            "root\n",
            " |-- userId: integer (nullable = true)\n",
            " |-- movieId: integer (nullable = true)\n",
            " |-- rating: double (nullable = true)\n",
            " |-- timestamp: integer (nullable = true)\n",
            "\n",
            "+------+-------+------+----------+\n",
            "|userId|movieId|rating| timestamp|\n",
            "+------+-------+------+----------+\n",
            "|     1|    296|   5.0|1147880044|\n",
            "|     1|    306|   3.5|1147868817|\n",
            "|     1|    307|   5.0|1147868828|\n",
            "|     1|    665|   5.0|1147878820|\n",
            "|     1|    899|   3.5|1147868510|\n",
            "+------+-------+------+----------+\n",
            "only showing top 5 rows\n",
            "\n"
          ]
        }
      ]
    },
    {
      "cell_type": "code",
      "source": [
        "# Top 10 Most Rated Movies\n",
        "df.groupBy(\"movieId\") \\\n",
        "  .count() \\\n",
        "  .orderBy(\"count\", ascending=False) \\\n",
        "  .show(10)\n"
      ],
      "metadata": {
        "colab": {
          "base_uri": "https://localhost:8080/"
        },
        "id": "68a6xjGmsIWT",
        "outputId": "eed62fc1-d2d3-4176-a499-ca2f304ded8c"
      },
      "execution_count": 11,
      "outputs": [
        {
          "output_type": "stream",
          "name": "stdout",
          "text": [
            "+-------+-----+\n",
            "|movieId|count|\n",
            "+-------+-----+\n",
            "|    356|81491|\n",
            "|    318|81482|\n",
            "|    296|79672|\n",
            "|    593|74127|\n",
            "|   2571|72674|\n",
            "|    260|68717|\n",
            "|    480|64144|\n",
            "|    527|60411|\n",
            "|    110|59184|\n",
            "|   2959|58773|\n",
            "+-------+-----+\n",
            "only showing top 10 rows\n",
            "\n"
          ]
        }
      ]
    },
    {
      "cell_type": "code",
      "source": [
        "# Top 10 Highest Rated Movies (with >1000 ratings)\n",
        "from pyspark.sql.functions import avg, count\n",
        "\n",
        "df.groupBy(\"movieId\") \\\n",
        "  .agg(avg(\"rating\").alias(\"avg_rating\"), count(\"*\").alias(\"total_ratings\")) \\\n",
        "  .filter(\"total_ratings > 1000\") \\\n",
        "  .orderBy(\"avg_rating\", ascending=False) \\\n",
        "  .show(10)"
      ],
      "metadata": {
        "colab": {
          "base_uri": "https://localhost:8080/"
        },
        "id": "U7py8KOXtos4",
        "outputId": "4d3b10d8-c481-4200-a498-9d3b1096a92b"
      },
      "execution_count": 12,
      "outputs": [
        {
          "output_type": "stream",
          "name": "stdout",
          "text": [
            "+-------+------------------+-------------+\n",
            "|movieId|        avg_rating|total_ratings|\n",
            "+-------+------------------+-------------+\n",
            "| 171011| 4.483096085409253|         1124|\n",
            "| 159817| 4.464796794504865|         1747|\n",
            "|    318| 4.413576004516335|        81482|\n",
            "| 170705| 4.398598820058997|         1356|\n",
            "|    858| 4.324336165187245|        52498|\n",
            "|     50| 4.284353213163313|        55366|\n",
            "|   1221|4.2617585117585115|        34188|\n",
            "|   2019|  4.25476920775043|        13367|\n",
            "|    527| 4.247579083279535|        60411|\n",
            "|   1203| 4.243014062405697|        16569|\n",
            "+-------+------------------+-------------+\n",
            "only showing top 10 rows\n",
            "\n"
          ]
        }
      ]
    },
    {
      "cell_type": "code",
      "source": [
        "# Ratings Count per Rating Value\n",
        "df.groupBy(\"rating\") \\\n",
        "  .count() \\\n",
        "  .orderBy(\"rating\") \\\n",
        "  .show()\n"
      ],
      "metadata": {
        "colab": {
          "base_uri": "https://localhost:8080/"
        },
        "id": "qr47GlqYvpHI",
        "outputId": "94a17e07-f722-47d1-b98b-09c6dba02b10"
      },
      "execution_count": 13,
      "outputs": [
        {
          "output_type": "stream",
          "name": "stdout",
          "text": [
            "+------+-------+\n",
            "|rating|  count|\n",
            "+------+-------+\n",
            "|   0.5| 393068|\n",
            "|   1.0| 776815|\n",
            "|   1.5| 399490|\n",
            "|   2.0|1640868|\n",
            "|   2.5|1262797|\n",
            "|   3.0|4896928|\n",
            "|   3.5|3177318|\n",
            "|   4.0|6639798|\n",
            "|   4.5|2200539|\n",
            "|   5.0|3612474|\n",
            "+------+-------+\n",
            "\n"
          ]
        }
      ]
    },
    {
      "cell_type": "code",
      "source": [
        "# Create a Temp View and Run SQL\n",
        "df.createOrReplaceTempView(\"ratings\")\n",
        "\n",
        "# Get average rating for movieId = 1\n",
        "spark.sql(\"\"\"\n",
        "    SELECT movieId, AVG(rating) AS avg_rating\n",
        "    FROM ratings\n",
        "    WHERE movieId = 1\n",
        "    GROUP BY movieId\n",
        "\"\"\").show()"
      ],
      "metadata": {
        "colab": {
          "base_uri": "https://localhost:8080/"
        },
        "id": "NfIysUnQwEUW",
        "outputId": "ebae324d-192b-4db3-bc74-ba44909d491e"
      },
      "execution_count": 16,
      "outputs": [
        {
          "output_type": "stream",
          "name": "stdout",
          "text": [
            "+-------+-----------------+\n",
            "|movieId|       avg_rating|\n",
            "+-------+-----------------+\n",
            "|      1|3.893707794587238|\n",
            "+-------+-----------------+\n",
            "\n"
          ]
        }
      ]
    }
  ]
}